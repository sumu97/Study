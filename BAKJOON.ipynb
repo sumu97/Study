{
  "nbformat": 4,
  "nbformat_minor": 0,
  "metadata": {
    "colab": {
      "name": "BAKJOON.ipynb",
      "provenance": [],
      "authorship_tag": "ABX9TyPz7ZSJGqgLBeChWLcRPZ7Q",
      "include_colab_link": true
    },
    "kernelspec": {
      "name": "python3",
      "display_name": "Python 3"
    },
    "language_info": {
      "name": "python"
    }
  },
  "cells": [
    {
      "cell_type": "markdown",
      "metadata": {
        "id": "view-in-github",
        "colab_type": "text"
      },
      "source": [
        "<a href=\"https://colab.research.google.com/github/sumu97/Study/blob/main/BAKJOON.ipynb\" target=\"_parent\"><img src=\"https://colab.research.google.com/assets/colab-badge.svg\" alt=\"Open In Colab\"/></a>"
      ]
    },
    {
      "cell_type": "markdown",
      "source": [
        "개 출력하기"
      ],
      "metadata": {
        "id": "EBNSPjAZJc1s"
      }
    },
    {
      "cell_type": "code",
      "execution_count": null,
      "metadata": {
        "colab": {
          "base_uri": "https://localhost:8080/"
        },
        "id": "MEf_mLiYJSCi",
        "outputId": "b5bc51c1-2f3e-41d4-b437-ef87566354c4"
      },
      "outputs": [
        {
          "output_type": "stream",
          "name": "stdout",
          "text": [
            "|\\_/|\n",
            "|q p|   /}\n",
            "( 0 )\"\"\"\\\n",
            "|\"^\"`    |\n",
            "||_/=\\\\__|\n"
          ]
        }
      ],
      "source": [
        "print(\"|\\_/|\")\n",
        "print(\"|q p|   /}\")\n",
        "print('( 0 )\"\"\"\\\\')  # \\'앞에 \\을 붙여준다.\n",
        "print('|\"^\"`    |')\n",
        "print(\"||_/=\\\\\\__|\")  # \\\\ 앞에 \\을 하나 더 붙여준다."
      ]
    },
    {
      "cell_type": "code",
      "source": [
        "a, b = input().split()\n",
        "print(int(a)+int(b))"
      ],
      "metadata": {
        "colab": {
          "base_uri": "https://localhost:8080/"
        },
        "id": "QVSXOHuHZPQy",
        "outputId": "4c25dac7-c0da-4e48-fee7-e5a339f81403"
      },
      "execution_count": 4,
      "outputs": [
        {
          "output_type": "stream",
          "name": "stdout",
          "text": [
            "1 4\n",
            "5\n"
          ]
        }
      ]
    },
    {
      "cell_type": "code",
      "source": [
        "a, b = input().split()\n",
        "print(int(a)-int(b))"
      ],
      "metadata": {
        "id": "X1t5untSaYT5"
      },
      "execution_count": null,
      "outputs": []
    },
    {
      "cell_type": "code",
      "source": [
        ""
      ],
      "metadata": {
        "id": "p3JX9cd8ZUYi"
      },
      "execution_count": null,
      "outputs": []
    }
  ]
}