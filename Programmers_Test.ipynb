{
 "cells": [
  {
   "cell_type": "code",
   "execution_count": 1,
   "metadata": {},
   "outputs": [
    {
     "name": "stdout",
     "output_type": "stream",
     "text": [
      "Checking whether there is an H2O instance running at http://localhost:54321. connected.\n"
     ]
    },
    {
     "data": {
      "text/html": [
       "\n",
       "<style>\n",
       "\n",
       "#h2o-table-1.h2o-container {\n",
       "  overflow-x: auto;\n",
       "}\n",
       "#h2o-table-1 .h2o-table {\n",
       "  /* width: 100%; */\n",
       "  margin-top: 1em;\n",
       "  margin-bottom: 1em;\n",
       "}\n",
       "#h2o-table-1 .h2o-table caption {\n",
       "  white-space: nowrap;\n",
       "  caption-side: top;\n",
       "  text-align: left;\n",
       "  /* margin-left: 1em; */\n",
       "  margin: 0;\n",
       "  font-size: larger;\n",
       "}\n",
       "#h2o-table-1 .h2o-table thead {\n",
       "  white-space: nowrap; \n",
       "  position: sticky;\n",
       "  top: 0;\n",
       "  box-shadow: 0 -1px inset;\n",
       "}\n",
       "#h2o-table-1 .h2o-table tbody {\n",
       "  overflow: auto;\n",
       "}\n",
       "#h2o-table-1 .h2o-table th,\n",
       "#h2o-table-1 .h2o-table td {\n",
       "  text-align: right;\n",
       "  /* border: 1px solid; */\n",
       "}\n",
       "#h2o-table-1 .h2o-table tr:nth-child(even) {\n",
       "  /* background: #F5F5F5 */\n",
       "}\n",
       "\n",
       "</style>      \n",
       "<div id=\"h2o-table-1\" class=\"h2o-container\">\n",
       "  <table class=\"h2o-table\">\n",
       "    <caption></caption>\n",
       "    <thead></thead>\n",
       "    <tbody><tr><td>H2O_cluster_uptime:</td>\n",
       "<td>1 day 15 hours 34 mins</td></tr>\n",
       "<tr><td>H2O_cluster_timezone:</td>\n",
       "<td>Asia/Seoul</td></tr>\n",
       "<tr><td>H2O_data_parsing_timezone:</td>\n",
       "<td>UTC</td></tr>\n",
       "<tr><td>H2O_cluster_version:</td>\n",
       "<td>3.40.0.2</td></tr>\n",
       "<tr><td>H2O_cluster_version_age:</td>\n",
       "<td>27 days</td></tr>\n",
       "<tr><td>H2O_cluster_name:</td>\n",
       "<td>H2O_from_python_Teon_szq0fn</td></tr>\n",
       "<tr><td>H2O_cluster_total_nodes:</td>\n",
       "<td>1</td></tr>\n",
       "<tr><td>H2O_cluster_free_memory:</td>\n",
       "<td>3.698 Gb</td></tr>\n",
       "<tr><td>H2O_cluster_total_cores:</td>\n",
       "<td>8</td></tr>\n",
       "<tr><td>H2O_cluster_allowed_cores:</td>\n",
       "<td>8</td></tr>\n",
       "<tr><td>H2O_cluster_status:</td>\n",
       "<td>locked, healthy</td></tr>\n",
       "<tr><td>H2O_connection_url:</td>\n",
       "<td>http://localhost:54321</td></tr>\n",
       "<tr><td>H2O_connection_proxy:</td>\n",
       "<td>{\"http\": null, \"https\": null}</td></tr>\n",
       "<tr><td>H2O_internal_security:</td>\n",
       "<td>False</td></tr>\n",
       "<tr><td>Python_version:</td>\n",
       "<td>3.8.16 final</td></tr></tbody>\n",
       "  </table>\n",
       "</div>\n"
      ],
      "text/plain": [
       "--------------------------  -----------------------------\n",
       "H2O_cluster_uptime:         1 day 15 hours 34 mins\n",
       "H2O_cluster_timezone:       Asia/Seoul\n",
       "H2O_data_parsing_timezone:  UTC\n",
       "H2O_cluster_version:        3.40.0.2\n",
       "H2O_cluster_version_age:    27 days\n",
       "H2O_cluster_name:           H2O_from_python_Teon_szq0fn\n",
       "H2O_cluster_total_nodes:    1\n",
       "H2O_cluster_free_memory:    3.698 Gb\n",
       "H2O_cluster_total_cores:    8\n",
       "H2O_cluster_allowed_cores:  8\n",
       "H2O_cluster_status:         locked, healthy\n",
       "H2O_connection_url:         http://localhost:54321\n",
       "H2O_connection_proxy:       {\"http\": null, \"https\": null}\n",
       "H2O_internal_security:      False\n",
       "Python_version:             3.8.16 final\n",
       "--------------------------  -----------------------------"
      ]
     },
     "metadata": {},
     "output_type": "display_data"
    },
    {
     "name": "stdout",
     "output_type": "stream",
     "text": [
      "Parse progress: |████████████████████████████████████████████████████████████████| (done) 100%\n",
      "Parse progress: |████████████████████████████████████████████████████████████████| (done) 100%\n",
      "AutoML progress: |█\n",
      "09:24:10.493: _min_rows param, The dataset size is too small to split for min_rows=100.0: must have at least 200.0 (weighted) rows, but have only 120.0.\n",
      "\n",
      "██████████████████████████████████████████████████████████████| (done) 100%\n"
     ]
    }
   ],
   "source": [
    "import numpy as np\n",
    "import pandas as pd\n",
    "from sklearn.model_selection import train_test_split\n",
    "import time\n",
    "import h2o\n",
    "from h2o.automl import H2OAutoML\n",
    "from h2o.estimators.gbm import H2OGradientBoostingEstimator\n",
    "# matplotlib inline #노트북에서 볼때\n",
    "h2o.init()\n",
    "h2o.no_progress\n",
    "\n",
    "from sklearn import datasets\n",
    "iris = datasets.load_iris()\n",
    "\n",
    "df = pd.DataFrame(data=np.c_[iris['data'], iris['target']], columns=iris['feature_names']+['target'])\n",
    "#print(df.head())\n",
    "\n",
    "feature = df.drop('target', axis=1)\n",
    "label = df['target']\n",
    "\n",
    "y = \"target\"\n",
    "x = list(df.columns)\n",
    "x.remove(y)\n",
    "\n",
    "train, valid = train_test_split(df,\n",
    "                                test_size=0.2,\n",
    "                                shuffle=True)\n",
    "h2o_train = h2o.H2OFrame(train)\n",
    "h2o_valid = h2o.H2OFrame(valid)\n",
    "\n",
    "h2o_train[y] = h2o_train[y].asfactor()\n",
    "h2o_valid[y] = h2o_valid[y].asfactor()\n",
    "\n",
    "aml = H2OAutoML(max_runtime_secs=120, exclude_algos =['XGBoost', 'StackedEnsemble'])\n",
    "aml.train(x=x,y=y,training_frame=h2o_train, leaderboard_frame=h2o_valid)\n",
    "\n",
    "leaderboard = aml.leaderboard\n",
    "#performance = aml.leader.model_performance(h2o_valid)\n",
    "\n"
   ]
  },
  {
   "cell_type": "code",
   "execution_count": 15,
   "metadata": {},
   "outputs": [
    {
     "name": "stdout",
     "output_type": "stream",
     "text": [
      "ModelMetricsMultinomial: gbm\n",
      "** Reported on test data. **\n",
      "\n",
      "MSE: 0.032244669756326866\n",
      "RMSE: 0.17956800872184017\n",
      "LogLoss: 0.1375127878586356\n",
      "Mean Per-Class Error: 0.030303030303030304\n",
      "AUC table was not computed: it is either disabled (model parameter 'auc_type' was set to AUTO or NONE) or the domain size exceeds the limit (maximum is 50 domains).\n",
      "AUCPR table was not computed: it is either disabled (model parameter 'auc_type' was set to AUTO or NONE) or the domain size exceeds the limit (maximum is 50 domains).\n",
      "\n",
      "Confusion Matrix: Row labels: Actual class; Column labels: Predicted class\n",
      "0    1    2    Error      Rate\n",
      "---  ---  ---  ---------  ------\n",
      "11   0    0    0          0 / 11\n",
      "0    10   1    0.0909091  1 / 11\n",
      "0    0    8    0          0 / 8\n",
      "11   10   9    0.0333333  1 / 30\n",
      "\n",
      "Top-3 Hit Ratios: \n",
      "k    hit_ratio\n",
      "---  -----------\n",
      "1    0.966667\n",
      "2    1\n",
      "3    1\n"
     ]
    }
   ],
   "source": [
    "print((aml.leader.model_performance(h2o_valid)))"
   ]
  },
  {
   "cell_type": "code",
   "execution_count": 16,
   "metadata": {},
   "outputs": [
    {
     "data": {
      "image/png": "[encoded data removed]",
      "text/plain": [
       "<Figure size 1400x1000 with 1 Axes>"
      ]
     },
     "metadata": {},
     "output_type": "display_data"
    },
    {
     "name": "stdout",
     "output_type": "stream",
     "text": [
      "gbm prediction progress: |███████████████████████████████████████████████████████| (done) 100%\n",
      "  predict\n",
      "        1\n",
      "        1\n",
      "        1\n",
      "        2\n",
      "        0\n",
      "        0\n",
      "        0\n",
      "        0\n",
      "        1\n",
      "        0\n",
      "[30 rows x 1 column]\n",
      "\n"
     ]
    },
    {
     "ename": "H2OResponseError",
     "evalue": "Server error java.lang.IllegalArgumentException:\n  Error: Column var1 not found\n  Request: POST /99/Rapids\n    data: {'ast': \"(tmp= py_12_sid_bb1b (cols_py py_2_sid_bb1b 'var1'))\", 'session_id': '_sid_bb1b'}\n",
     "output_type": "error",
     "traceback": [
      "\u001b[1;31m---------------------------------------------------------------------------\u001b[0m",
      "\u001b[1;31mH2OResponseError\u001b[0m                          Traceback (most recent call last)",
      "Cell \u001b[1;32mIn[16], line 10\u001b[0m\n\u001b[0;32m      8\u001b[0m label_predicted \u001b[39m=\u001b[39m get_aml\u001b[39m.\u001b[39mpredict(h2o_valid)\n\u001b[0;32m      9\u001b[0m \u001b[39mprint\u001b[39m(label_predicted[\u001b[39m'\u001b[39m\u001b[39mpredict\u001b[39m\u001b[39m'\u001b[39m])\n\u001b[1;32m---> 10\u001b[0m \u001b[39mprint\u001b[39;49m(h2o_valid[\u001b[39m'\u001b[39;49m\u001b[39mvar1\u001b[39;49m\u001b[39m'\u001b[39;49m])\n",
      "File \u001b[1;32mc:\\Users\\kwon9\\.conda\\envs\\AutoML\\lib\\site-packages\\h2o\\display.py:369\u001b[0m, in \u001b[0;36mDisplayMixin.__str__\u001b[1;34m(self)\u001b[0m\n\u001b[0;32m    367\u001b[0m     s \u001b[39m=\u001b[39m \u001b[39mself\u001b[39m\u001b[39m.\u001b[39m_str_pretty_(verbosity\u001b[39m=\u001b[39mrepr_verb)\n\u001b[0;32m    368\u001b[0m \u001b[39melse\u001b[39;00m:\n\u001b[1;32m--> 369\u001b[0m     s \u001b[39m=\u001b[39m \u001b[39mself\u001b[39;49m\u001b[39m.\u001b[39;49m_str_(verbosity\u001b[39m=\u001b[39;49mrepr_verb)\n\u001b[0;32m    370\u001b[0m \u001b[39mif\u001b[39;00m PY2:  \u001b[39m# in Py2, this must return a byte array, otherwise print() fails\u001b[39;00m\n\u001b[0;32m    371\u001b[0m     \u001b[39mreturn\u001b[39;00m \u001b[39mbytes\u001b[39m(s)\n",
      "File \u001b[1;32mc:\\Users\\kwon9\\.conda\\envs\\AutoML\\lib\\site-packages\\h2o\\frame.py:4949\u001b[0m, in \u001b[0;36mH2OFrame._str_\u001b[1;34m(self, verbosity)\u001b[0m\n\u001b[0;32m   4948\u001b[0m \u001b[39mdef\u001b[39;00m \u001b[39m_str_\u001b[39m(\u001b[39mself\u001b[39m, verbosity\u001b[39m=\u001b[39m\u001b[39mNone\u001b[39;00m):\n\u001b[1;32m-> 4949\u001b[0m     \u001b[39mreturn\u001b[39;00m \u001b[39mself\u001b[39;49m\u001b[39m.\u001b[39;49m_to_str(verbosity\u001b[39m=\u001b[39;49mverbosity)\n",
      "File \u001b[1;32mc:\\Users\\kwon9\\.conda\\envs\\AutoML\\lib\\site-packages\\h2o\\frame.py:4928\u001b[0m, in \u001b[0;36mH2OFrame._to_str\u001b[1;34m(self, fmt, verbosity)\u001b[0m\n\u001b[0;32m   4927\u001b[0m \u001b[39mdef\u001b[39;00m \u001b[39m_to_str\u001b[39m(\u001b[39mself\u001b[39m, fmt\u001b[39m=\u001b[39m\u001b[39mNone\u001b[39;00m, verbosity\u001b[39m=\u001b[39m\u001b[39mNone\u001b[39;00m):\n\u001b[1;32m-> 4928\u001b[0m     fr_str \u001b[39m=\u001b[39m \u001b[39mself\u001b[39;49m\u001b[39m.\u001b[39;49m_str_edge_cases()\n\u001b[0;32m   4929\u001b[0m     \u001b[39mif\u001b[39;00m fr_str \u001b[39mis\u001b[39;00m \u001b[39mnot\u001b[39;00m \u001b[39mNone\u001b[39;00m:\n\u001b[0;32m   4930\u001b[0m         \u001b[39mreturn\u001b[39;00m fr_str\n",
      "File \u001b[1;32mc:\\Users\\kwon9\\.conda\\envs\\AutoML\\lib\\site-packages\\h2o\\frame.py:4920\u001b[0m, in \u001b[0;36mH2OFrame._str_edge_cases\u001b[1;34m(self)\u001b[0m\n\u001b[0;32m   4918\u001b[0m rows \u001b[39m=\u001b[39m local_env(\u001b[39m'\u001b[39m\u001b[39mrows\u001b[39m\u001b[39m'\u001b[39m, \u001b[39m10\u001b[39m)\n\u001b[0;32m   4919\u001b[0m cols \u001b[39m=\u001b[39m local_env(\u001b[39m'\u001b[39m\u001b[39mcols\u001b[39m\u001b[39m'\u001b[39m, \u001b[39m-\u001b[39m\u001b[39m1\u001b[39m)\n\u001b[1;32m-> 4920\u001b[0m \u001b[39mself\u001b[39;49m\u001b[39m.\u001b[39;49m_frame()\u001b[39m.\u001b[39m_ex\u001b[39m.\u001b[39m_cache\u001b[39m.\u001b[39mfill(rows\u001b[39m=\u001b[39mrows, cols\u001b[39m=\u001b[39mcols)\n\u001b[0;32m   4921\u001b[0m \u001b[39mreturn\u001b[39;00m \u001b[39mNone\u001b[39;00m\n",
      "File \u001b[1;32mc:\\Users\\kwon9\\.conda\\envs\\AutoML\\lib\\site-packages\\h2o\\frame.py:572\u001b[0m, in \u001b[0;36mH2OFrame._frame\u001b[1;34m(self, rows, rows_offset, cols, cols_offset, fill_cache)\u001b[0m\n\u001b[0;32m    571\u001b[0m \u001b[39mdef\u001b[39;00m \u001b[39m_frame\u001b[39m(\u001b[39mself\u001b[39m, rows\u001b[39m=\u001b[39m\u001b[39m10\u001b[39m, rows_offset\u001b[39m=\u001b[39m\u001b[39m0\u001b[39m, cols\u001b[39m=\u001b[39m\u001b[39m-\u001b[39m\u001b[39m1\u001b[39m, cols_offset\u001b[39m=\u001b[39m\u001b[39m0\u001b[39m, fill_cache\u001b[39m=\u001b[39m\u001b[39mFalse\u001b[39;00m):\n\u001b[1;32m--> 572\u001b[0m     \u001b[39mself\u001b[39;49m\u001b[39m.\u001b[39;49m_ex\u001b[39m.\u001b[39;49m_eager_frame()\n\u001b[0;32m    573\u001b[0m     \u001b[39mif\u001b[39;00m fill_cache:\n\u001b[0;32m    574\u001b[0m         \u001b[39mself\u001b[39m\u001b[39m.\u001b[39m_ex\u001b[39m.\u001b[39m_cache\u001b[39m.\u001b[39mfill(rows\u001b[39m=\u001b[39mrows, rows_offset\u001b[39m=\u001b[39mrows_offset, cols\u001b[39m=\u001b[39mcols, cols_offset\u001b[39m=\u001b[39mcols_offset)\n",
      "File \u001b[1;32mc:\\Users\\kwon9\\.conda\\envs\\AutoML\\lib\\site-packages\\h2o\\expr.py:91\u001b[0m, in \u001b[0;36mExprNode._eager_frame\u001b[1;34m(self)\u001b[0m\n\u001b[0;32m     89\u001b[0m \u001b[39mif\u001b[39;00m \u001b[39mnot\u001b[39;00m \u001b[39mself\u001b[39m\u001b[39m.\u001b[39m_cache\u001b[39m.\u001b[39mis_empty(): \u001b[39mreturn\u001b[39;00m\n\u001b[0;32m     90\u001b[0m \u001b[39mif\u001b[39;00m \u001b[39mself\u001b[39m\u001b[39m.\u001b[39m_cache\u001b[39m.\u001b[39m_id \u001b[39mis\u001b[39;00m \u001b[39mnot\u001b[39;00m \u001b[39mNone\u001b[39;00m: \u001b[39mreturn\u001b[39;00m  \u001b[39m# Data already computed under ID, but not cached locally\u001b[39;00m\n\u001b[1;32m---> 91\u001b[0m \u001b[39mself\u001b[39;49m\u001b[39m.\u001b[39;49m_eval_driver(\u001b[39m'\u001b[39;49m\u001b[39mframe\u001b[39;49m\u001b[39m'\u001b[39;49m)\n",
      "File \u001b[1;32mc:\\Users\\kwon9\\.conda\\envs\\AutoML\\lib\\site-packages\\h2o\\expr.py:115\u001b[0m, in \u001b[0;36mExprNode._eval_driver\u001b[1;34m(self, top)\u001b[0m\n\u001b[0;32m    108\u001b[0m \u001b[39m\u001b[39m\u001b[39m\"\"\"\u001b[39;00m\n\u001b[0;32m    109\u001b[0m \u001b[39m:param top: if this is a top expression (providing a final result),\u001b[39;00m\n\u001b[0;32m    110\u001b[0m \u001b[39m    then specifies the expected result type (accepted values = ['frame', 'scalar']),\u001b[39;00m\n\u001b[0;32m    111\u001b[0m \u001b[39m    or None if no object creation is expected.\u001b[39;00m\n\u001b[0;32m    112\u001b[0m \u001b[39m:return: self expr\u001b[39;00m\n\u001b[0;32m    113\u001b[0m \u001b[39m\"\"\"\u001b[39;00m\n\u001b[0;32m    114\u001b[0m exec_str \u001b[39m=\u001b[39m \u001b[39mself\u001b[39m\u001b[39m.\u001b[39m_get_ast_str(top)\n\u001b[1;32m--> 115\u001b[0m res \u001b[39m=\u001b[39m ExprNode\u001b[39m.\u001b[39;49mrapids(exec_str)\n\u001b[0;32m    116\u001b[0m \u001b[39mif\u001b[39;00m \u001b[39m'\u001b[39m\u001b[39mscalar\u001b[39m\u001b[39m'\u001b[39m \u001b[39min\u001b[39;00m res:\n\u001b[0;32m    117\u001b[0m     \u001b[39mif\u001b[39;00m \u001b[39misinstance\u001b[39m(res[\u001b[39m'\u001b[39m\u001b[39mscalar\u001b[39m\u001b[39m'\u001b[39m], \u001b[39mlist\u001b[39m):\n",
      "File \u001b[1;32mc:\\Users\\kwon9\\.conda\\envs\\AutoML\\lib\\site-packages\\h2o\\expr.py:259\u001b[0m, in \u001b[0;36mExprNode.rapids\u001b[1;34m(expr)\u001b[0m\n\u001b[0;32m    250\u001b[0m \u001b[39m@staticmethod\u001b[39m\n\u001b[0;32m    251\u001b[0m \u001b[39mdef\u001b[39;00m \u001b[39mrapids\u001b[39m(expr):\n\u001b[0;32m    252\u001b[0m \u001b[39m    \u001b[39m\u001b[39m\"\"\"\u001b[39;00m\n\u001b[0;32m    253\u001b[0m \u001b[39m    Execute a Rapids expression.\u001b[39;00m\n\u001b[0;32m    254\u001b[0m \n\u001b[1;32m   (...)\u001b[0m\n\u001b[0;32m    257\u001b[0m \u001b[39m    :returns: The JSON response (as a python dictionary) of the Rapids execution\u001b[39;00m\n\u001b[0;32m    258\u001b[0m \u001b[39m    \"\"\"\u001b[39;00m\n\u001b[1;32m--> 259\u001b[0m     \u001b[39mreturn\u001b[39;00m h2o\u001b[39m.\u001b[39;49mapi(\u001b[39m\"\u001b[39;49m\u001b[39mPOST /99/Rapids\u001b[39;49m\u001b[39m\"\u001b[39;49m, data\u001b[39m=\u001b[39;49m{\u001b[39m\"\u001b[39;49m\u001b[39mast\u001b[39;49m\u001b[39m\"\u001b[39;49m: expr, \u001b[39m\"\u001b[39;49m\u001b[39msession_id\u001b[39;49m\u001b[39m\"\u001b[39;49m: h2o\u001b[39m.\u001b[39;49mconnection()\u001b[39m.\u001b[39;49msession_id})\n",
      "File \u001b[1;32mc:\\Users\\kwon9\\.conda\\envs\\AutoML\\lib\\site-packages\\h2o\\h2o.py:124\u001b[0m, in \u001b[0;36mapi\u001b[1;34m(endpoint, data, json, filename, save_to)\u001b[0m\n\u001b[0;32m    122\u001b[0m \u001b[39m# type checks are performed in H2OConnection class\u001b[39;00m\n\u001b[0;32m    123\u001b[0m _check_connection()\n\u001b[1;32m--> 124\u001b[0m \u001b[39mreturn\u001b[39;00m h2oconn\u001b[39m.\u001b[39;49mrequest(endpoint, data\u001b[39m=\u001b[39;49mdata, json\u001b[39m=\u001b[39;49mjson, filename\u001b[39m=\u001b[39;49mfilename, save_to\u001b[39m=\u001b[39;49msave_to)\n",
      "File \u001b[1;32mc:\\Users\\kwon9\\.conda\\envs\\AutoML\\lib\\site-packages\\h2o\\backend\\connection.py:499\u001b[0m, in \u001b[0;36mH2OConnection.request\u001b[1;34m(self, endpoint, data, json, filename, save_to)\u001b[0m\n\u001b[0;32m    497\u001b[0m         save_to \u001b[39m=\u001b[39m save_to(resp)\n\u001b[0;32m    498\u001b[0m     \u001b[39mself\u001b[39m\u001b[39m.\u001b[39m_log_end_transaction(start_time, resp)\n\u001b[1;32m--> 499\u001b[0m     \u001b[39mreturn\u001b[39;00m \u001b[39mself\u001b[39;49m\u001b[39m.\u001b[39;49m_process_response(resp, save_to)\n\u001b[0;32m    501\u001b[0m \u001b[39mexcept\u001b[39;00m (requests\u001b[39m.\u001b[39mexceptions\u001b[39m.\u001b[39mConnectionError, requests\u001b[39m.\u001b[39mexceptions\u001b[39m.\u001b[39mHTTPError) \u001b[39mas\u001b[39;00m e:\n\u001b[0;32m    502\u001b[0m     \u001b[39mif\u001b[39;00m \u001b[39mself\u001b[39m\u001b[39m.\u001b[39m_local_server \u001b[39mand\u001b[39;00m \u001b[39mnot\u001b[39;00m \u001b[39mself\u001b[39m\u001b[39m.\u001b[39m_local_server\u001b[39m.\u001b[39mis_running():\n",
      "File \u001b[1;32mc:\\Users\\kwon9\\.conda\\envs\\AutoML\\lib\\site-packages\\h2o\\backend\\connection.py:853\u001b[0m, in \u001b[0;36mH2OConnection._process_response\u001b[1;34m(response, save_to)\u001b[0m\n\u001b[0;32m    851\u001b[0m \u001b[39mif\u001b[39;00m status_code \u001b[39min\u001b[39;00m {\u001b[39m400\u001b[39m, \u001b[39m404\u001b[39m, \u001b[39m412\u001b[39m} \u001b[39mand\u001b[39;00m \u001b[39misinstance\u001b[39m(data, H2OErrorV3):\n\u001b[0;32m    852\u001b[0m     data\u001b[39m.\u001b[39mshow_stacktrace \u001b[39m=\u001b[39m \u001b[39mFalse\u001b[39;00m\n\u001b[1;32m--> 853\u001b[0m     \u001b[39mraise\u001b[39;00m H2OResponseError(data)\n\u001b[0;32m    855\u001b[0m \u001b[39m# Server errors (notably 500 = \"Server Error\")\u001b[39;00m\n\u001b[0;32m    856\u001b[0m \u001b[39m# Note that it is possible to receive valid H2OErrorV3 object in this case, however it merely means the server\u001b[39;00m\n\u001b[0;32m    857\u001b[0m \u001b[39m# did not provide the correct status code.\u001b[39;00m\n\u001b[0;32m    858\u001b[0m \u001b[39mraise\u001b[39;00m H2OServerError(\u001b[39m\"\u001b[39m\u001b[39mHTTP \u001b[39m\u001b[39m%d\u001b[39;00m\u001b[39m \u001b[39m\u001b[39m%s\u001b[39;00m\u001b[39m:\u001b[39m\u001b[39m\\n\u001b[39;00m\u001b[39m%s\u001b[39;00m\u001b[39m\"\u001b[39m \u001b[39m%\u001b[39m (status_code, response\u001b[39m.\u001b[39mreason, data))\n",
      "\u001b[1;31mH2OResponseError\u001b[0m: Server error java.lang.IllegalArgumentException:\n  Error: Column var1 not found\n  Request: POST /99/Rapids\n    data: {'ast': \"(tmp= py_12_sid_bb1b (cols_py py_2_sid_bb1b 'var1'))\", 'session_id': '_sid_bb1b'}\n"
     ]
    },
    {
     "data": {
      "text/plain": [
       "<Figure size 640x480 with 0 Axes>"
      ]
     },
     "metadata": {},
     "output_type": "display_data"
    }
   ],
   "source": [
    "## 중요 변수 시각화\n",
    "aml.leader.varimp_plot()\n",
    "\n",
    "## automl 결과 확인\n",
    "# Get AutoML object by `project_name`\n",
    "get_aml = h2o.automl.get_automl(aml.project_name)\n",
    "# Predict with top model from AutoML Leaderboard on a H2OFrame called 'test'\n",
    "label_predicted = get_aml.predict(h2o_valid)\n",
    "print(label_predicted['predict'])\n",
    "print(h2o_valid['var1'])"
   ]
  }
 ],
 "metadata": {
  "kernelspec": {
   "display_name": "AutoML",
   "language": "python",
   "name": "python3"
  },
  "language_info": {
   "codemirror_mode": {
    "name": "ipython",
    "version": 3
   },
   "file_extension": ".py",
   "mimetype": "text/x-python",
   "name": "python",
   "nbconvert_exporter": "python",
   "pygments_lexer": "ipython3",
   "version": "3.8.16"
  },
  "orig_nbformat": 4
 },
 "nbformat": 4,
 "nbformat_minor": 2
}
