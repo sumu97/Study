{
 "cells": [
  {
   "attachments": {},
   "cell_type": "markdown",
   "metadata": {},
   "source": [
    "# 코테연습"
   ]
  },
  {
   "cell_type": "code",
   "execution_count": 1,
   "metadata": {},
   "outputs": [],
   "source": [
    "def prime_list(n):\n",
    "    # 에라토스테네스의 체 초기화: n개 요소에 True 설정(소수로 간주)\n",
    "    sieve = [True] * n\n",
    "\n",
    "    m = int(n ** 0.5)\n",
    "    for i in range(2, m + 1):\n",
    "        if sieve[i] == True:           # i가 소수인 경우 \n",
    "            for j in range(i+i, n, i): # i이후 i의 배수들을 False 판정 # i+i 부터 시작, n 까지, i 로 짬푸뜀\n",
    "                sieve[j] = False\n",
    "\n",
    "    # 소수 목록 산출\n",
    "    return [i for i in range(2, n) if sieve[i] == True]"
   ]
  },
  {
   "attachments": {},
   "cell_type": "markdown",
   "metadata": {},
   "source": [
    "완호가 관리하는 어떤 데이터베이스의 한 테이블은 모두 정수 타입인 컬럼들로 이루어져 있습니다. 테이블은 2차원 행렬로 표현할 수 있으며 열은 컬럼을 나타내고, 행은 튜플을 나타냅니다.\n",
    "첫 번째 컬럼은 기본키로서 모든 튜플에 대해 그 값이 중복되지 않도록 보장됩니다. 완호는 이 테이블에 대한 해시 함수를 다음과 같이 정의하였습니다.\n",
    "\n",
    "해시 함수는 col, row_begin, row_end을 입력으로 받습니다.\n",
    "테이블의 튜플을 col번째 컬럼의 값을 기준으로 오름차순 정렬을 하되, 만약 그 값이 동일하면 기본키인 첫 번째 컬럼의 값을 기준으로 내림차순 정렬합니다.\n",
    "정렬된 데이터에서 S_i를 i 번째 행의 튜플에 대해 각 컬럼의 값을 i 로 나눈 나머지들의 합으로 정의합니다.\n",
    "row_begin ≤ i ≤ row_end 인 모든 S_i를 누적하여 bitwise XOR 한 값을 해시 값으로서 반환합니다.\n",
    "테이블의 데이터 data와 해시 함수에 대한 입력 col, row_begin, row_end이 주어졌을 때 테이블의 해시 값을 return 하도록 solution 함수를 완성해주세요.\n",
    "\n",
    "제한 사항\n",
    "1 ≤ data의 길이 ≤ 2,500\n",
    "1 ≤ data의 원소의 길이 ≤ 500\n",
    "1 ≤ data[i][j] ≤ 1,000,000\n",
    "data[i][j]는 i + 1 번째 튜플의 j + 1 번째 컬럼의 값을 의미합니다.\n",
    "1 ≤ col ≤ data의 원소의 길이\n",
    "1 ≤ row_begin ≤ row_end ≤ data의 길이\n",
    "입출력 예\n",
    "data\tcol\trow_begin\trow_end\tresult\n",
    "[[2,2,6],[1,5,10],[4,2,9],[3,8,3]]\t2\t2\t3\t4\n",
    "입출력 예 설명\n",
    "정해진 방법에 따라 튜플을 정렬하면 {4, 2, 9}, {2, 2, 6}, {1, 5, 10}, {3, 8, 3} 이 됩니다.\n",
    "S_2 = (2 mod 2) + (2 mod 2) + (6 mod 2) = 0 입니다.\n",
    "S_3 = (1 mod 3) + (5 mod 3) + (10 mod 3) = 4 입니다.\n",
    "따라서 해시 값은 S_2 XOR S_ 3 = 4 입니다."
   ]
  },
  {
   "cell_type": "code",
   "execution_count": 72,
   "metadata": {},
   "outputs": [],
   "source": [
    "def solution(data, col, row_begin, row_end):\n",
    "    # 소팅\n",
    "    data = sorted(data, key=lambda x:(x[col-1], -x[0]))\n",
    "    S_i = []\n",
    "    # 컬럼계산\n",
    "    for i,l in enumerate(data):\n",
    "        if i+1>=row_begin:\n",
    "            S_i.append(sum(list(map(lambda x : x % (i+1),l))))\n",
    "            if (i+1)==row_end:\n",
    "                break\n",
    "    # 하나만 있을때 생기는 문제 해결\n",
    "    if len(S_i) == 1:\n",
    "        temp = S_i[0]\n",
    "    # 하나 이상 있을때 XOR 연산 수행\n",
    "    for x in range(len(S_i)-1):\n",
    "        if x == 0:\n",
    "            temp = S_i[0] ^ S_i[1]\n",
    "        else:\n",
    "            temp ^= S_i[x+1]\n",
    "        \n",
    "    return temp"
   ]
  },
  {
   "cell_type": "code",
   "execution_count": 74,
   "metadata": {},
   "outputs": [],
   "source": [
    "def solution(data, col, row_begin, row_end):\n",
    "    answer = 0\n",
    "    data.sort(key=lambda x:(x[col-1],-x[0])) # 여기까지 동일\n",
    "    for i in range(row_begin-1,row_end): # 필요 Row 만 추출\n",
    "        answer^=sum(map(lambda x:x%(i+1),data[i])) #i번째 데이터에서 바로 XOR 연산 수행 - Range 가 잡혀있어서 가능..\n",
    "    return answer"
   ]
  },
  {
   "cell_type": "code",
   "execution_count": 73,
   "metadata": {},
   "outputs": [
    {
     "data": {
      "text/plain": [
       "4"
      ]
     },
     "execution_count": 73,
     "metadata": {},
     "output_type": "execute_result"
    }
   ],
   "source": [
    "#solution([[2, 2, 6], [1, 5, 10], [4, 2, 9], [3, 8, 3]], 1, 2, 4)\n",
    "# answer = 4\n",
    "\n",
    "solution([[2,2,6],[1,5,10],[4,2,9],[3,8,3]]\t,2\t,3\t,3)"
   ]
  },
  {
   "attachments": {},
   "cell_type": "markdown",
   "metadata": {},
   "source": [
    "문제 설명\n",
    "문자열 s에는 공백으로 구분된 숫자들이 저장되어 있습니다. str에 나타나는 숫자 중 최소값과 최대값을 찾아 이를 \"(최소값) (최대값)\"형태의 문자열을 반환하는 함수, solution을 완성하세요.\n",
    "예를들어 s가 \"1 2 3 4\"라면 \"1 4\"를 리턴하고, \"-1 -2 -3 -4\"라면 \"-4 -1\"을 리턴하면 됩니다.\n",
    "\n",
    "제한 조건\n",
    "s에는 둘 이상의 정수가 공백으로 구분되어 있습니다.\n",
    "입출력 예\n",
    "s\treturn\n",
    "\"1 2 3 4\"\t\"1 4\"\n",
    "\"-1 -2 -3 -4\"\t\"-4 -1\"\n",
    "\"-1 -1\"\t\"-1 -1\""
   ]
  },
  {
   "cell_type": "code",
   "execution_count": 87,
   "metadata": {},
   "outputs": [
    {
     "name": "stdout",
     "output_type": "stream",
     "text": [
      "['-1', '3', '-3', '-4']\n",
      "[-4, -3, -1, 3]\n"
     ]
    },
    {
     "data": {
      "text/plain": [
       "'-4 3'"
      ]
     },
     "execution_count": 87,
     "metadata": {},
     "output_type": "execute_result"
    }
   ],
   "source": [
    "def bruh(s):\n",
    "    # 1. 문자열 리스트로 변환\n",
    "    temp_list = s.split()\n",
    "    # 2. 정수 문자열로 변환\n",
    "    temp_list = list(map(int, temp_list))\n",
    "    # 3. 리스트 정렬\n",
    "    temp_list.sort()    \n",
    "    # 4. 맨 앞과 맨 뒤 형식에 맞게 추출\n",
    "    return str(temp_list[0])+\" \"+str(temp_list[-1])\n",
    "\n",
    "\n",
    "\n",
    "bruh(\"-1 3 -3 -4\")"
   ]
  },
  {
   "cell_type": "code",
   "execution_count": 89,
   "metadata": {},
   "outputs": [
    {
     "data": {
      "text/plain": [
       "'-4 3'"
      ]
     },
     "execution_count": 89,
     "metadata": {},
     "output_type": "execute_result"
    }
   ],
   "source": [
    "def bruh(s):\n",
    "    s = list(map(int,s.split()))\n",
    "    return str(min(s))+\" \"+str(max(s))\n",
    "\n",
    "\n",
    "\n",
    "\n",
    "bruh(\"-1 3 -3 -4\")"
   ]
  },
  {
   "cell_type": "code",
   "execution_count": 135,
   "metadata": {},
   "outputs": [],
   "source": [
    "def solution(s):\n",
    "    temp_list = s.lower().split(\" \")\n",
    "    print(temp_list)\n",
    "    temp = \"\"\n",
    "    for i in range(len(temp_list)):\n",
    "        print(temp_list[i])\n",
    "        if temp_list[i] == \"\":\n",
    "            temp += \" \"\n",
    "        else:\n",
    "            temp += ''.join(list(map(lambda x : x[0].upper(),temp_list)))\n",
    "\n",
    "    print(temp)\n",
    "    return temp"
   ]
  },
  {
   "cell_type": "code",
   "execution_count": 146,
   "metadata": {},
   "outputs": [
    {
     "name": "stdout",
     "output_type": "stream",
     "text": [
      "['3people', '', 'unfollowed', 'me']\n"
     ]
    },
    {
     "data": {
      "text/plain": [
       "'3people  Unfollowed Me'"
      ]
     },
     "execution_count": 146,
     "metadata": {},
     "output_type": "execute_result"
    }
   ],
   "source": [
    "def solution(s):\n",
    "    temp_list = s.lower().split(\" \")\n",
    "    temp = ' '.join(list(map(lambda x : x[0].upper()+x[1:] if x!=\"\" else \"\",temp_list)))\n",
    "    return temp\n",
    "\n",
    "solution(\"3people  unFollowed me\")"
   ]
  },
  {
   "attachments": {},
   "cell_type": "markdown",
   "metadata": {},
   "source": [
    "문제 설명\n",
    "괄호가 바르게 짝지어졌다는 것은 '(' 문자로 열렸으면 반드시 짝지어서 ')' 문자로 닫혀야 한다는 뜻입니다. 예를 들어\n",
    "\n",
    "\"()()\" 또는 \"(())()\" 는 올바른 괄호입니다.\n",
    "\")()(\" 또는 \"(()(\" 는 올바르지 않은 괄호입니다.\n",
    "'(' 또는 ')' 로만 이루어진 문자열 s가 주어졌을 때, 문자열 s가 올바른 괄호이면 true를 return 하고, 올바르지 않은 괄호이면 false를 return 하는 solution 함수를 완성해 주세요.\n",
    "\n",
    "제한사항\n",
    "문자열 s의 길이 : 100,000 이하의 자연수\n",
    "문자열 s는 '(' 또는 ')' 로만 이루어져 있습니다.\n",
    "입출력 예\n",
    "s\tanswer\n",
    "\"()()\"\ttrue\n",
    "\"(())()\"\ttrue\n",
    "\")()(\"\tfalse\n",
    "\"(()(\"\tfalse\n",
    "입출력 예 설명\n",
    "입출력 예 #1,2,3,4\n",
    "문제의 예시와 같습니다."
   ]
  },
  {
   "cell_type": "code",
   "execution_count": 150,
   "metadata": {},
   "outputs": [
    {
     "data": {
      "text/plain": [
       "False"
      ]
     },
     "execution_count": 150,
     "metadata": {},
     "output_type": "execute_result"
    }
   ],
   "source": [
    "def solution(s):\n",
    "    temp_list = list(s)\n",
    "    if (temp_list[0]==\"(\") & (temp_list[-1]==\")\"):\n",
    "        return True\n",
    "    else:\n",
    "        return False\n",
    "\n",
    "solution(\"()(\")"
   ]
  },
  {
   "cell_type": "code",
   "execution_count": 155,
   "metadata": {},
   "outputs": [
    {
     "data": {
      "text/plain": [
       "False"
      ]
     },
     "execution_count": 155,
     "metadata": {},
     "output_type": "execute_result"
    }
   ],
   "source": [
    "# 스택으로 풀어야 하나봐요\n",
    "def solution(s):\n",
    "    stack = 0\n",
    "    for i in s:\n",
    "        if i == \"(\":\n",
    "            stack += 1\n",
    "        else:\n",
    "            stack -= 1\n",
    "        if stack < 0:\n",
    "            break\n",
    "    if stack == 0:\n",
    "        return True\n",
    "    else:\n",
    "        return False\n",
    "\n",
    "solution(\"()(\")"
   ]
  },
  {
   "attachments": {},
   "cell_type": "markdown",
   "metadata": {},
   "source": [
    "길이가 같은 배열 A, B 두개가 있습니다. 각 배열은 자연수로 이루어져 있습니다.\n",
    "배열 A, B에서 각각 한 개의 숫자를 뽑아 두 수를 곱합니다. 이러한 과정을 배열의 길이만큼 반복하며, 두 수를 곱한 값을 누적하여 더합니다. 이때 최종적으로 누적된 값이 최소가 되도록 만드는 것이 목표입니다. (단, 각 배열에서 k번째 숫자를 뽑았다면 다음에 k번째 숫자는 다시 뽑을 수 없습니다.)\n",
    "\n",
    "예를 들어 A = [1, 4, 2] , B = [5, 4, 4] 라면\n",
    "\n",
    "A에서 첫번째 숫자인 1, B에서 첫번째 숫자인 5를 뽑아 곱하여 더합니다. (누적된 값 : 0 + 5(1x5) = 5)\n",
    "A에서 두번째 숫자인 4, B에서 세번째 숫자인 4를 뽑아 곱하여 더합니다. (누적된 값 : 5 + 16(4x4) = 21)\n",
    "A에서 세번째 숫자인 2, B에서 두번째 숫자인 4를 뽑아 곱하여 더합니다. (누적된 값 : 21 + 8(2x4) = 29)\n",
    "즉, 이 경우가 최소가 되므로 29를 return 합니다.\n",
    "\n",
    "배열 A, B가 주어질 때 최종적으로 누적된 최솟값을 return 하는 solution 함수를 완성해 주세요.\n",
    "\n",
    "제한사항\n",
    "배열 A, B의 크기 : 1,000 이하의 자연수\n",
    "배열 A, B의 원소의 크기 : 1,000 이하의 자연수\n",
    "입출력 예\n",
    "A\tB\tanswer\n",
    "[1, 4, 2]\t[5, 4, 4]\t29\n",
    "[1,2]\t[3,4]\t10\n",
    "입출력 예 설명\n",
    "입출력 예 #1\n",
    "문제의 예시와 같습니다.\n",
    "\n",
    "입출력 예 #2\n",
    "A에서 첫번째 숫자인 1, B에서 두번째 숫자인 4를 뽑아 곱하여 더합니다. (누적된 값 : 4) 다음, A에서 두번째 숫자인 2, B에서 첫번째 숫자인 3을 뽑아 곱하여 더합니다. (누적된 값 : 4 + 6 = 10)\n",
    "이 경우가 최소이므로 10을 return 합니다."
   ]
  },
  {
   "cell_type": "code",
   "execution_count": 167,
   "metadata": {},
   "outputs": [
    {
     "data": {
      "text/plain": [
       "29"
      ]
     },
     "execution_count": 167,
     "metadata": {},
     "output_type": "execute_result"
    }
   ],
   "source": [
    "def solution(A,B):\n",
    "    A.sort()\n",
    "    B.sort(reverse=True)\n",
    "    answer = 0\n",
    "    for a,b in zip(A,B):\n",
    "        answer += a*b\n",
    "    return answer\n",
    "\n",
    "solution([1, 4, 2], [5, 4, 4])"
   ]
  },
  {
   "attachments": {},
   "cell_type": "markdown",
   "metadata": {},
   "source": [
    "문제 설명\n",
    "0과 1로 이루어진 어떤 문자열 x에 대한 이진 변환을 다음과 같이 정의합니다.\n",
    "\n",
    "x의 모든 0을 제거합니다.\n",
    "x의 길이를 c라고 하면, x를 \"c를 2진법으로 표현한 문자열\"로 바꿉니다.\n",
    "예를 들어, x = \"0111010\"이라면, x에 이진 변환을 가하면 x = \"0111010\" -> \"1111\" -> \"100\" 이 됩니다.\n",
    "\n",
    "0과 1로 이루어진 문자열 s가 매개변수로 주어집니다. s가 \"1\"이 될 때까지 계속해서 s에 이진 변환을 가했을 때, 이진 변환의 횟수와 변환 과정에서 제거된 모든 0의 개수를 각각 배열에 담아 return 하도록 solution 함수를 완성해주세요.\n",
    "\n",
    "제한사항\n",
    "s의 길이는 1 이상 150,000 이하입니다.\n",
    "s에는 '1'이 최소 하나 이상 포함되어 있습니다.\n",
    "입출력 예\n",
    "s\tresult\n",
    "\"110010101001\"\t[3,8]\n",
    "\"01110\"\t[3,3]\n",
    "\"1111111\"\t[4,1]\n",
    "입출력 예 설명\n",
    "입출력 예 #1\n",
    "\n",
    "\"110010101001\"이 \"1\"이 될 때까지 이진 변환을 가하는 과정은 다음과 같습니다.\n",
    "회차\t이진 변환 이전\t제거할 0의 개수\t0 제거 후 길이\t이진 변환 결과\n",
    "1\t\"110010101001\"\t6\t6\t\"110\"\n",
    "2\t\"110\"\t1\t2\t\"10\"\n",
    "3\t\"10\"\t1\t1\t\"1\"\n",
    "3번의 이진 변환을 하는 동안 8개의 0을 제거했으므로, [3,8]을 return 해야 합니다.\n",
    "입출력 예 #2\n",
    "\n",
    "\"01110\"이 \"1\"이 될 때까지 이진 변환을 가하는 과정은 다음과 같습니다.\n",
    "회차\t이진 변환 이전\t제거할 0의 개수\t0 제거 후 길이\t이진 변환 결과\n",
    "1\t\"01110\"\t2\t3\t\"11\"\n",
    "2\t\"11\"\t0\t2\t\"10\"\n",
    "3\t\"10\"\t1\t1\t\"1\"\n",
    "3번의 이진 변환을 하는 동안 3개의 0을 제거했으므로, [3,3]을 return 해야 합니다.\n",
    "입출력 예 #3\n",
    "\n",
    "\"1111111\"이 \"1\"이 될 때까지 이진 변환을 가하는 과정은 다음과 같습니다.\n",
    "회차\t이진 변환 이전\t제거할 0의 개수\t0 제거 후 길이\t이진 변환 결과\n",
    "1\t\"1111111\"\t0\t7\t\"111\"\n",
    "2\t\"111\"\t0\t3\t\"11\"\n",
    "3\t\"11\"\t0\t2\t\"10\"\n",
    "4\t\"10\"\t1\t1\t\"1\"\n",
    "4번의 이진 변환을 하는 동안 1개의 0을 제거했으므로, [4,1]을 return 해야 합니다."
   ]
  },
  {
   "cell_type": "code",
   "execution_count": 182,
   "metadata": {},
   "outputs": [
    {
     "data": {
      "text/plain": [
       "[2, 5]"
      ]
     },
     "execution_count": 182,
     "metadata": {},
     "output_type": "execute_result"
    }
   ],
   "source": [
    "def solution(s):\n",
    "\titer = 0\n",
    "\tcount = 0\n",
    "\twhile s!='1':\n",
    "\t\ttemp = len(s)\n",
    "\t\ts = len(s.replace(\"0\",\"\"))\n",
    "\t\tcount += (temp - s)\n",
    "\t\titer += 1\n",
    "\t\ts = bin(s)[2:]\n",
    "\treturn [iter,count]\n",
    "\n",
    "\n",
    "\n",
    "solution(\"0111010\")"
   ]
  },
  {
   "attachments": {},
   "cell_type": "markdown",
   "metadata": {},
   "source": [
    "문제 설명\n",
    "Finn은 요즘 수학공부에 빠져 있습니다. 수학 공부를 하던 Finn은 자연수 n을 연속한 자연수들로 표현 하는 방법이 여러개라는 사실을 알게 되었습니다. 예를들어 15는 다음과 같이 4가지로 표현 할 수 있습니다.\n",
    "\n",
    "1 + 2 + 3 + 4 + 5 = 15\n",
    "4 + 5 + 6 = 15\n",
    "7 + 8 = 15\n",
    "15 = 15\n",
    "자연수 n이 매개변수로 주어질 때, 연속된 자연수들로 n을 표현하는 방법의 수를 return하는 solution를 완성해주세요.\n",
    "\n",
    "제한사항\n",
    "n은 10,000 이하의 자연수 입니다.\n",
    "입출력 예\n",
    "n\tresult\n",
    "15\t4\n",
    "입출력 예 설명\n",
    "입출력 예#1\n",
    "문제의 예시와 같습니다."
   ]
  },
  {
   "cell_type": "code",
   "execution_count": 224,
   "metadata": {},
   "outputs": [
    {
     "data": {
      "text/plain": [
       "4"
      ]
     },
     "execution_count": 224,
     "metadata": {},
     "output_type": "execute_result"
    }
   ],
   "source": [
    "def solution(n):\n",
    "    count = 1 # 자기자신\n",
    "    for i in range(1,n//2+1):\n",
    "        iter = 1\n",
    "        temp = i\n",
    "        while temp <= n:\n",
    "            temp = temp + i+iter\n",
    "            #print(i,iter,temp)\n",
    "            if temp == n:\n",
    "                count += 1\n",
    "                break\n",
    "            iter += 1\n",
    "    \n",
    "    return count\n",
    "\n",
    "solution(15)"
   ]
  },
  {
   "attachments": {},
   "cell_type": "markdown",
   "metadata": {},
   "source": [
    "문제 설명\n",
    "자연수 n이 주어졌을 때, n의 다음 큰 숫자는 다음과 같이 정의 합니다.\n",
    "\n",
    "조건 1. n의 다음 큰 숫자는 n보다 큰 자연수 입니다.\n",
    "조건 2. n의 다음 큰 숫자와 n은 2진수로 변환했을 때 1의 갯수가 같습니다.\n",
    "조건 3. n의 다음 큰 숫자는 조건 1, 2를 만족하는 수 중 가장 작은 수 입니다.\n",
    "예를 들어서 78(1001110)의 다음 큰 숫자는 83(1010011)입니다.\n",
    "\n",
    "자연수 n이 매개변수로 주어질 때, n의 다음 큰 숫자를 return 하는 solution 함수를 완성해주세요.\n",
    "\n",
    "제한 사항\n",
    "n은 1,000,000 이하의 자연수 입니다.\n",
    "입출력 예\n",
    "n\tresult\n",
    "78\t83\n",
    "15\t23\n",
    "입출력 예 설명\n",
    "입출력 예#1\n",
    "문제 예시와 같습니다.\n",
    "입출력 예#2\n",
    "15(1111)의 다음 큰 숫자는 23(10111)입니다."
   ]
  },
  {
   "cell_type": "code",
   "execution_count": 232,
   "metadata": {},
   "outputs": [
    {
     "data": {
      "text/plain": [
       "23"
      ]
     },
     "execution_count": 232,
     "metadata": {},
     "output_type": "execute_result"
    }
   ],
   "source": [
    "# Que 방식으로 하나씩 확인\n",
    "def solution(n):\n",
    "    target = len(bin(n)[2:].replace('0',''))\n",
    "    while True:\n",
    "        n+=1\n",
    "        que = len(bin(n)[2:].replace('0',''))\n",
    "        if target == que:\n",
    "            return n\n",
    "\n",
    "solution(15)\n"
   ]
  },
  {
   "attachments": {},
   "cell_type": "markdown",
   "metadata": {},
   "source": [
    "문제 설명\n",
    "피보나치 수는 F(0) = 0, F(1) = 1일 때, 1 이상의 n에 대하여 F(n) = F(n-1) + F(n-2) 가 적용되는 수 입니다.\n",
    "\n",
    "예를들어\n",
    "\n",
    "F(2) = F(0) + F(1) = 0 + 1 = 1\n",
    "F(3) = F(1) + F(2) = 1 + 1 = 2\n",
    "F(4) = F(2) + F(3) = 1 + 2 = 3\n",
    "F(5) = F(3) + F(4) = 2 + 3 = 5\n",
    "와 같이 이어집니다.\n",
    "\n",
    "2 이상의 n이 입력되었을 때, n번째 피보나치 수를 1234567으로 나눈 나머지를 리턴하는 함수, solution을 완성해 주세요.\n",
    "\n",
    "제한 사항\n",
    "n은 2 이상 100,000 이하인 자연수입니다.\n",
    "입출력 예\n",
    "n\treturn\n",
    "3\t2\n",
    "5\t5\n",
    "입출력 예 설명\n",
    "피보나치수는 0번째부터 0, 1, 1, 2, 3, 5, ... 와 같이 이어집니다."
   ]
  },
  {
   "cell_type": "code",
   "execution_count": 251,
   "metadata": {},
   "outputs": [
    {
     "name": "stdout",
     "output_type": "stream",
     "text": [
      "0 1\n",
      "1 1\n",
      "2 2\n",
      "3 3\n",
      "4 5\n"
     ]
    },
    {
     "data": {
      "text/plain": [
       "5"
      ]
     },
     "execution_count": 251,
     "metadata": {},
     "output_type": "execute_result"
    }
   ],
   "source": [
    "def solution(n):\n",
    "    a, b = 0, 1\n",
    "    counter = 0\n",
    "    while True:\n",
    "        a, b = b, a+b # 1, 1 - 1, 2 - 2, 3 - 3, 5\n",
    "        #print(counter, a)\n",
    "        counter += 1\n",
    "        if counter == n:\n",
    "            return a%1234567\n",
    "        \n",
    "solution(5)"
   ]
  },
  {
   "cell_type": "code",
   "execution_count": null,
   "metadata": {},
   "outputs": [],
   "source": []
  }
 ],
 "metadata": {
  "kernelspec": {
   "display_name": "AutoML",
   "language": "python",
   "name": "python3"
  },
  "language_info": {
   "codemirror_mode": {
    "name": "ipython",
    "version": 3
   },
   "file_extension": ".py",
   "mimetype": "text/x-python",
   "name": "python",
   "nbconvert_exporter": "python",
   "pygments_lexer": "ipython3",
   "version": "3.8.16"
  },
  "orig_nbformat": 4
 },
 "nbformat": 4,
 "nbformat_minor": 2
}
